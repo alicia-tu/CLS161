{
 "cells": [
  {
   "cell_type": "markdown",
   "id": "f4ebe16b",
   "metadata": {},
   "source": [
    "# hw"
   ]
  },
  {
   "cell_type": "markdown",
   "id": "c0afc30d",
   "metadata": {},
   "source": [
    "_italic_ **bold**"
   ]
  },
  {
   "cell_type": "markdown",
   "id": "6c080aa5",
   "metadata": {},
   "source": [
    "books\n",
    "- book1\n",
    "- book2"
   ]
  },
  {
   "cell_type": "markdown",
   "id": "6b83465e",
   "metadata": {},
   "source": [
    "this is a sentence"
   ]
  },
  {
   "cell_type": "code",
   "execution_count": null,
   "id": "f7c420fd",
   "metadata": {},
   "outputs": [],
   "source": []
  }
 ],
 "metadata": {
  "kernelspec": {
   "display_name": "Python 3 (ipykernel)",
   "language": "python",
   "name": "python3"
  },
  "language_info": {
   "codemirror_mode": {
    "name": "ipython",
    "version": 3
   },
   "file_extension": ".py",
   "mimetype": "text/x-python",
   "name": "python",
   "nbconvert_exporter": "python",
   "pygments_lexer": "ipython3",
   "version": "3.11.4"
  }
 },
 "nbformat": 4,
 "nbformat_minor": 5
}
